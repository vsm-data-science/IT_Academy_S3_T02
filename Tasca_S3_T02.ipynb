{
 "cells": [
  {
   "cell_type": "markdown",
   "metadata": {
    "id": "vSBdPxPAODP1"
   },
   "source": [
    "## Exercici 1"
   ]
  },
  {
   "cell_type": "markdown",
   "metadata": {
    "id": "Lmm2VO1wOKS1"
   },
   "source": [
    "Crea un Array numèric d’una dimensió, fes operacions de càlcul sobre ell. En concret: suma dels diferents valors, resta, fes la mitja, etc."
   ]
  },
  {
   "cell_type": "code",
   "execution_count": 3,
   "metadata": {
    "colab": {
     "base_uri": "https://localhost:8080/"
    },
    "id": "t1v9Ja3ePrCF",
    "outputId": "7bd604ea-6261-47ca-dc31-9cb99778efba"
   },
   "outputs": [
    {
     "name": "stdout",
     "output_type": "stream",
     "text": [
      "Requirement already satisfied: numpy in c:\\users\\vsanc\\anaconda3\\lib\\site-packages (1.24.3)\n"
     ]
    }
   ],
   "source": [
    "!pip install numpy \n",
    "# he instalat la llibreria numpy"
   ]
  },
  {
   "cell_type": "code",
   "execution_count": null,
   "metadata": {
    "colab": {
     "base_uri": "https://localhost:8080/"
    },
    "id": "xGJgg0agOMt9",
    "outputId": "6763212e-9148-4fa4-8dc2-a90c67cf5798"
   },
   "outputs": [
    {
     "name": "stdout",
     "output_type": "stream",
     "text": [
      "He creat el seguent Array [1 2 3 4 5]\n",
      "La suma dels valors es 15\n",
      "Array amb un 1 restat a cada element [0 1 2 3 4]\n",
      "La Mitja dels valors es 3.0\n"
     ]
    }
   ],
   "source": [
    "import numpy as np # Estem important la llibreria numpy y la anomenem np\n",
    "\n",
    "arr = np.array([1,2,3,4,5]) #creem un array numèric d'una dimensió\n",
    "\n",
    "suma = np.sum(arr) #suma dels valors en al array\n",
    "\n",
    "resta = arr - 1 #resta dels valors al array restan un 1 a cada element\n",
    "\n",
    "mitja = np.mean(arr)\n",
    "\n",
    "print(\"He creat el seguent Array\",arr)\n",
    "\n",
    "print(\"La suma dels valors es\", suma)\n",
    "\n",
    "print(\"Array amb un 1 restat a cada element\", resta)\n",
    "\n",
    "print(\"La Mitja dels valors es\", mitja)\n"
   ]
  },
  {
   "cell_type": "markdown",
   "metadata": {
    "id": "LeMnrzc6S7DN"
   },
   "source": [
    "## Exercici 2"
   ]
  },
  {
   "cell_type": "markdown",
   "metadata": {
    "id": "Hq1E_ck7S_ll"
   },
   "source": [
    "Crea una matriu (taula) quadrada NxN de nombres aleatoris entre el 0 i el 100."
   ]
  },
  {
   "cell_type": "code",
   "execution_count": null,
   "metadata": {
    "colab": {
     "base_uri": "https://localhost:8080/"
    },
    "id": "Pib-34x4OAUM",
    "outputId": "22fd1e09-0b5a-4aa4-f979-f9a231bafdfe"
   },
   "outputs": [
    {
     "name": "stdout",
     "output_type": "stream",
     "text": [
      "[[94 19 58]\n",
      " [12 88 77]\n",
      " [47 97 66]]\n"
     ]
    }
   ],
   "source": [
    "N = 3 #Aquest será el tamay de la matriu cuadrada\n",
    "\n",
    "matriu = np.random.randint(0,100, size=(N,N)) #utilitza per generar números aleatoris en un rang especific.\n",
    "\n",
    "print(matriu)"
   ]
  },
  {
   "cell_type": "markdown",
   "metadata": {
    "id": "aqUmN3z-VHb-"
   },
   "source": [
    "## Exercici 3"
   ]
  },
  {
   "cell_type": "markdown",
   "metadata": {
    "id": "ppY5oEWJVKKt"
   },
   "source": [
    "Crea una matriu (taula) de dues dimensions (NxM), i calcula els totals per fila i els totals per columna."
   ]
  },
  {
   "cell_type": "code",
   "execution_count": null,
   "metadata": {
    "colab": {
     "base_uri": "https://localhost:8080/"
    },
    "id": "VuZsuvpWVK-M",
    "outputId": "f08cd323-2be4-4832-8cb7-41465067f977"
   },
   "outputs": [
    {
     "name": "stdout",
     "output_type": "stream",
     "text": [
      "[[ 99  83   6  43]\n",
      " [100  28   6  94]\n",
      " [ 52  76  82  77]]\n",
      "El total per fila es [231 228 287]\n",
      "El total per columnes es [251 187  94 214]\n"
     ]
    }
   ],
   "source": [
    "N = 3\n",
    "M = 4\n",
    "\n",
    "matriu = np.random.randint(0,101, size=(N,M))\n",
    "\n",
    "print(matriu) #Creem la taula de les dues dimensions, i l'he dit que dimensió \"size\" ha de tenir les variables N i M\n",
    "\n",
    "#Creem una variable per sumar el total per files\n",
    "total_per_files = np.sum(matriu, axis=1)\n",
    "\n",
    "#ara creem una variable per calcular les totals per columna\n",
    "total_per_colum = np.sum(matriu, axis=0)\n",
    "\n",
    "print(\"El total per fila es\", total_per_files)\n",
    "print(\"El total per columnes es\",total_per_colum)\n"
   ]
  },
  {
   "cell_type": "markdown",
   "metadata": {
    "id": "Kg8chOwYcc-u"
   },
   "source": [
    "## Exercici 4"
   ]
  },
  {
   "cell_type": "markdown",
   "metadata": {
    "id": "KQfQk8bfcelN"
   },
   "source": [
    "Calcula manualment el coeficient de correlació entre dos arrays numèrics creats per tu. Informa-te'n sobre els seus usos i interpretació. Pots fer un array amb les alçades de diferents persones i un altre array amb els pesos d'aquestes persones i mirar-ne la correlació."
   ]
  },
  {
   "cell_type": "code",
   "execution_count": 18,
   "metadata": {
    "colab": {
     "base_uri": "https://localhost:8080/"
    },
    "id": "7RKesZf9jesB",
    "outputId": "2db78ad7-df55-4b86-da6d-6e68d6a68a33"
   },
   "outputs": [
    {
     "name": "stdout",
     "output_type": "stream",
     "text": [
      "El coeficient de correlació: -0.11968783390489648\n"
     ]
    }
   ],
   "source": [
    "# Definim les variables\n",
    "\n",
    "alçada = np.array([1.70, 1.65, 1.66, 1.80, 1.67, 1.71])\n",
    "pes = np.array([60, 70, 72, 69, 75, 80])\n",
    "\n",
    "# Calculem el coeficient de correlació amb la funció a.corref\n",
    "\n",
    "coeficient_correlacio = np.corrcoef(alçada, pes)[0, 1]\n",
    "\n",
    "print(\"El coeficient de correlació:\", coeficient_correlacio)\n"
   ]
  }
 ],
 "metadata": {
  "colab": {
   "provenance": []
  },
  "kernelspec": {
   "display_name": "Python 3 (ipykernel)",
   "language": "python",
   "name": "python3"
  },
  "language_info": {
   "codemirror_mode": {
    "name": "ipython",
    "version": 3
   },
   "file_extension": ".py",
   "mimetype": "text/x-python",
   "name": "python",
   "nbconvert_exporter": "python",
   "pygments_lexer": "ipython3",
   "version": "3.11.5"
  }
 },
 "nbformat": 4,
 "nbformat_minor": 1
}
